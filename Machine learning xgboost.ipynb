{
 "cells": [
  {
   "cell_type": "code",
   "execution_count": 10,
   "metadata": {},
   "outputs": [],
   "source": [
    "import numpy as np\n",
    "import pandas as pd\n",
    "from sklearn.model_selection import train_test_split\n",
    "import xgboost as xgb\n",
    "from sklearn.metrics import accuracy_score\n",
    "\n",
    "# read our data and creates a data frame\n",
    "DF = pd.read_csv('DATA/Democracy-Index.csv', usecols=range(1,10))"
   ]
  },
  {
   "cell_type": "code",
   "execution_count": 11,
   "metadata": {},
   "outputs": [],
   "source": [
    "# makes a copy of the data frame to work on it\n",
    "# and remove the columns with 'Democracy' and 'Country'\n",
    "# in order to build a model\n",
    "df_target = DF.copy()\n",
    "del DF['Democracy']\n",
    "del DF['Country']"
   ]
  },
  {
   "cell_type": "code",
   "execution_count": 12,
   "metadata": {},
   "outputs": [],
   "source": [
    "# splits the data frame in two parts. One two train the model (80%), the other one to test it (20%)\n",
    "\n",
    "X_train, X_test, y_train, y_test = train_test_split(DF, df_target['Democracy'] , test_size=0.2, random_state=0)"
   ]
  },
  {
   "cell_type": "code",
   "execution_count": 17,
   "metadata": {},
   "outputs": [],
   "source": [
    "# puts the datas in the right format to be used by xgboost \n",
    "\n",
    "train = xgb.DMatrix(X_train, label=y_train)\n",
    "test = xgb.DMatrix(X_test, label=y_test)"
   ]
  },
  {
   "cell_type": "code",
   "execution_count": 18,
   "metadata": {},
   "outputs": [],
   "source": [
    "# chooses the parameters for xgboost\n",
    "param = {\n",
    "    'max_depth': 10,\n",
    "    'eta': 0.3,\n",
    "    'objective': 'multi:softmax',\n",
    "    'num_class': 3} \n",
    "epochs = 30"
   ]
  },
  {
   "cell_type": "code",
   "execution_count": 19,
   "metadata": {},
   "outputs": [],
   "source": [
    "# trains the model\n",
    "model = xgb.train(param, train, epochs)"
   ]
  },
  {
   "cell_type": "code",
   "execution_count": 20,
   "metadata": {},
   "outputs": [],
   "source": [
    "# tests the model\n",
    "predictions = model.predict(test)"
   ]
  },
  {
   "cell_type": "code",
   "execution_count": 21,
   "metadata": {},
   "outputs": [
    {
     "data": {
      "text/plain": [
       "0.8787878787878788"
      ]
     },
     "execution_count": 21,
     "metadata": {},
     "output_type": "execute_result"
    }
   ],
   "source": [
    "# calculate the accuracy score obtain by the model on the test data\n",
    "accuracy_score(y_test, predictions)\n",
    "# the accuracy is good (0.9)"
   ]
  },
  {
   "cell_type": "code",
   "execution_count": 22,
   "metadata": {},
   "outputs": [
    {
     "name": "stdout",
     "output_type": "stream",
     "text": [
      "This country is a democracy.\n"
     ]
    }
   ],
   "source": [
    "# Ables to chose arbitrary values for the parameters\n",
    "# and figures out if this 'fake' country is a democracy or not\n",
    "# Play with it !\n",
    "\n",
    "data = {'Expectancy': [78],'PopulationD':[100],'Gini':[10],'AgeMed':[40],'Skyscraper':[350.0],'Children':[1],'PressF':[20] }\n",
    "target = {'Democracy': []}\n",
    "my_test = pd.DataFrame(data=data)\n",
    "\n",
    "my_test = xgb.DMatrix(my_test, label=target['Democracy'])\n",
    "\n",
    "predictions = model.predict(my_test)\n",
    "\n",
    "if predictions==0:\n",
    "    print('This country is a dictatorship.')\n",
    "else:\n",
    "    print('This country is a democracy.')"
   ]
  },
  {
   "cell_type": "code",
   "execution_count": null,
   "metadata": {},
   "outputs": [],
   "source": []
  }
 ],
 "metadata": {
  "kernelspec": {
   "display_name": "Python 3",
   "language": "python",
   "name": "python3"
  },
  "language_info": {
   "codemirror_mode": {
    "name": "ipython",
    "version": 3
   },
   "file_extension": ".py",
   "mimetype": "text/x-python",
   "name": "python",
   "nbconvert_exporter": "python",
   "pygments_lexer": "ipython3",
   "version": "3.8.3"
  }
 },
 "nbformat": 4,
 "nbformat_minor": 4
}
