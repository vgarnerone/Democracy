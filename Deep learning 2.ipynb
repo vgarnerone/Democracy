{
 "cells": [
  {
   "cell_type": "markdown",
   "metadata": {},
   "source": [
    "# Deep learning 2 - Neuronal network: KERAS\n",
    "## Discussion about activation choice and epochs"
   ]
  },
  {
   "cell_type": "code",
   "execution_count": 13,
   "metadata": {},
   "outputs": [],
   "source": [
    "import pandas as pd"
   ]
  },
  {
   "cell_type": "code",
   "execution_count": 14,
   "metadata": {},
   "outputs": [],
   "source": [
    "DF = pd.read_csv('DATA/Democracy-Index.csv', usecols=range(1,10))"
   ]
  },
  {
   "cell_type": "code",
   "execution_count": 15,
   "metadata": {},
   "outputs": [],
   "source": [
    "# Get rid of countries' name columns and create a seprate data frame (target)\n",
    "DF_country = DF['Country']\n",
    "DF_target = DF['Democracy']\n",
    "del DF['Country']\n",
    "del DF['Democracy']"
   ]
  },
  {
   "cell_type": "code",
   "execution_count": 16,
   "metadata": {},
   "outputs": [
    {
     "data": {
      "text/html": [
       "<div>\n",
       "<style scoped>\n",
       "    .dataframe tbody tr th:only-of-type {\n",
       "        vertical-align: middle;\n",
       "    }\n",
       "\n",
       "    .dataframe tbody tr th {\n",
       "        vertical-align: top;\n",
       "    }\n",
       "\n",
       "    .dataframe thead th {\n",
       "        text-align: right;\n",
       "    }\n",
       "</style>\n",
       "<table border=\"1\" class=\"dataframe\">\n",
       "  <thead>\n",
       "    <tr style=\"text-align: right;\">\n",
       "      <th></th>\n",
       "      <th>Expectancy</th>\n",
       "      <th>PopulationD</th>\n",
       "      <th>Gini</th>\n",
       "      <th>AgeMed</th>\n",
       "      <th>Skyscraper</th>\n",
       "      <th>Children</th>\n",
       "      <th>PressF</th>\n",
       "    </tr>\n",
       "  </thead>\n",
       "  <tbody>\n",
       "    <tr>\n",
       "      <th>0</th>\n",
       "      <td>64.099998</td>\n",
       "      <td>58.299999</td>\n",
       "      <td>36.799999</td>\n",
       "      <td>18.400000</td>\n",
       "      <td>75.000000</td>\n",
       "      <td>4.18</td>\n",
       "      <td>36.549999</td>\n",
       "    </tr>\n",
       "    <tr>\n",
       "      <th>1</th>\n",
       "      <td>78.500000</td>\n",
       "      <td>105.000000</td>\n",
       "      <td>29.000000</td>\n",
       "      <td>36.400002</td>\n",
       "      <td>91.000000</td>\n",
       "      <td>1.70</td>\n",
       "      <td>29.840000</td>\n",
       "    </tr>\n",
       "    <tr>\n",
       "      <th>2</th>\n",
       "      <td>78.099998</td>\n",
       "      <td>18.100000</td>\n",
       "      <td>27.600000</td>\n",
       "      <td>28.500000</td>\n",
       "      <td>270.000000</td>\n",
       "      <td>2.59</td>\n",
       "      <td>45.750000</td>\n",
       "    </tr>\n",
       "    <tr>\n",
       "      <th>3</th>\n",
       "      <td>65.000000</td>\n",
       "      <td>25.500000</td>\n",
       "      <td>42.599998</td>\n",
       "      <td>16.700001</td>\n",
       "      <td>145.000000</td>\n",
       "      <td>5.48</td>\n",
       "      <td>34.959999</td>\n",
       "    </tr>\n",
       "    <tr>\n",
       "      <th>4</th>\n",
       "      <td>77.000000</td>\n",
       "      <td>16.400000</td>\n",
       "      <td>42.400002</td>\n",
       "      <td>31.500000</td>\n",
       "      <td>235.000000</td>\n",
       "      <td>2.25</td>\n",
       "      <td>28.299999</td>\n",
       "    </tr>\n",
       "    <tr>\n",
       "      <th>...</th>\n",
       "      <td>...</td>\n",
       "      <td>...</td>\n",
       "      <td>...</td>\n",
       "      <td>...</td>\n",
       "      <td>...</td>\n",
       "      <td>...</td>\n",
       "      <td>...</td>\n",
       "    </tr>\n",
       "    <tr>\n",
       "      <th>159</th>\n",
       "      <td>75.099998</td>\n",
       "      <td>32.299999</td>\n",
       "      <td>46.900002</td>\n",
       "      <td>29.600000</td>\n",
       "      <td>262.500000</td>\n",
       "      <td>2.25</td>\n",
       "      <td>49.099998</td>\n",
       "    </tr>\n",
       "    <tr>\n",
       "      <th>160</th>\n",
       "      <td>74.699997</td>\n",
       "      <td>311.000000</td>\n",
       "      <td>35.299999</td>\n",
       "      <td>32.500000</td>\n",
       "      <td>461.200012</td>\n",
       "      <td>1.94</td>\n",
       "      <td>74.930000</td>\n",
       "    </tr>\n",
       "    <tr>\n",
       "      <th>161</th>\n",
       "      <td>68.099998</td>\n",
       "      <td>55.200001</td>\n",
       "      <td>36.700001</td>\n",
       "      <td>20.200001</td>\n",
       "      <td>100.000000</td>\n",
       "      <td>3.69</td>\n",
       "      <td>61.660000</td>\n",
       "    </tr>\n",
       "    <tr>\n",
       "      <th>162</th>\n",
       "      <td>64.000000</td>\n",
       "      <td>24.000000</td>\n",
       "      <td>57.099998</td>\n",
       "      <td>17.600000</td>\n",
       "      <td>90.000000</td>\n",
       "      <td>4.81</td>\n",
       "      <td>36.380001</td>\n",
       "    </tr>\n",
       "    <tr>\n",
       "      <th>163</th>\n",
       "      <td>62.000000</td>\n",
       "      <td>37.900002</td>\n",
       "      <td>43.200001</td>\n",
       "      <td>18.700001</td>\n",
       "      <td>120.000000</td>\n",
       "      <td>3.53</td>\n",
       "      <td>42.230000</td>\n",
       "    </tr>\n",
       "  </tbody>\n",
       "</table>\n",
       "<p>164 rows × 7 columns</p>\n",
       "</div>"
      ],
      "text/plain": [
       "     Expectancy  PopulationD       Gini     AgeMed  Skyscraper  Children  \\\n",
       "0     64.099998    58.299999  36.799999  18.400000   75.000000      4.18   \n",
       "1     78.500000   105.000000  29.000000  36.400002   91.000000      1.70   \n",
       "2     78.099998    18.100000  27.600000  28.500000  270.000000      2.59   \n",
       "3     65.000000    25.500000  42.599998  16.700001  145.000000      5.48   \n",
       "4     77.000000    16.400000  42.400002  31.500000  235.000000      2.25   \n",
       "..          ...          ...        ...        ...         ...       ...   \n",
       "159   75.099998    32.299999  46.900002  29.600000  262.500000      2.25   \n",
       "160   74.699997   311.000000  35.299999  32.500000  461.200012      1.94   \n",
       "161   68.099998    55.200001  36.700001  20.200001  100.000000      3.69   \n",
       "162   64.000000    24.000000  57.099998  17.600000   90.000000      4.81   \n",
       "163   62.000000    37.900002  43.200001  18.700001  120.000000      3.53   \n",
       "\n",
       "        PressF  \n",
       "0    36.549999  \n",
       "1    29.840000  \n",
       "2    45.750000  \n",
       "3    34.959999  \n",
       "4    28.299999  \n",
       "..         ...  \n",
       "159  49.099998  \n",
       "160  74.930000  \n",
       "161  61.660000  \n",
       "162  36.380001  \n",
       "163  42.230000  \n",
       "\n",
       "[164 rows x 7 columns]"
      ]
     },
     "execution_count": 16,
     "metadata": {},
     "output_type": "execute_result"
    }
   ],
   "source": [
    "# Convert the data type to be use by keras\n",
    "DF.astype('float32')"
   ]
  },
  {
   "cell_type": "markdown",
   "metadata": {},
   "source": [
    "## activation = relu, epochs = 10"
   ]
  },
  {
   "cell_type": "code",
   "execution_count": 17,
   "metadata": {},
   "outputs": [
    {
     "data": {
      "text/plain": [
       "0.6275735378265381"
      ]
     },
     "execution_count": 17,
     "metadata": {},
     "output_type": "execute_result"
    }
   ],
   "source": [
    "from tensorflow.keras.layers import Dense, Dropout\n",
    "from tensorflow.keras.models import Sequential\n",
    "from sklearn.model_selection import cross_val_score\n",
    "from tensorflow.keras.wrappers.scikit_learn import KerasClassifier\n",
    "\n",
    "def create_model():\n",
    "    model = Sequential()\n",
    "    \n",
    "    #7 feature inputs (geo-politic parameters) going into an 7 units layer \n",
    "    model.add(Dense(7, input_dim=7, kernel_initializer='normal', activation='relu')) \n",
    "    \n",
    "    # Output layer with a binary classification (Democracy or Dictatorship)\n",
    "    model.add(Dense(1, kernel_initializer='normal', activation='sigmoid'))\n",
    "    \n",
    "    # Compile model\n",
    "    model.compile(loss='binary_crossentropy', optimizer='adam', metrics=['accuracy'])\n",
    "    return model\n",
    "\n",
    "# Wrap our Keras model in an estimator compatible with scikit_learn\n",
    "estimator = KerasClassifier(build_fn=create_model, epochs=10, verbose=0)\n",
    "\n",
    "# Now we can use scikit_learn's cross_val_score to evaluate this model\n",
    "cv_scores = cross_val_score(estimator, DF, DF_target, cv=10)\n",
    "cv_scores.mean()"
   ]
  },
  {
   "cell_type": "markdown",
   "metadata": {},
   "source": [
    "## activation = relu, epochs = 100"
   ]
  },
  {
   "cell_type": "code",
   "execution_count": 18,
   "metadata": {},
   "outputs": [
    {
     "data": {
      "text/plain": [
       "0.8654411792755127"
      ]
     },
     "execution_count": 18,
     "metadata": {},
     "output_type": "execute_result"
    }
   ],
   "source": [
    "def create_model():\n",
    "    model = Sequential()\n",
    "    \n",
    "    #7 feature inputs (geo-politic parameters) going into an 7 units layer \n",
    "    model.add(Dense(7, input_dim=7, kernel_initializer='normal', activation='relu'))\n",
    "     \n",
    "    # Output layer with a binary classification (Democracy or Dictatorship)\n",
    "    model.add(Dense(1, kernel_initializer='normal', activation='sigmoid'))\n",
    "    \n",
    "    # Compile model\n",
    "    model.compile(loss='binary_crossentropy', optimizer='adam', metrics=['accuracy'])\n",
    "    return model\n",
    "\n",
    "# Wrap our Keras model in an estimator compatible with scikit_learn\n",
    "estimator = KerasClassifier(build_fn=create_model, epochs=100, verbose=0)\n",
    "\n",
    "# Now we can use scikit_learn's cross_val_score to evaluate this model\n",
    "cv_scores = cross_val_score(estimator, DF, DF_target, cv=10)\n",
    "cv_scores.mean()"
   ]
  },
  {
   "cell_type": "markdown",
   "metadata": {},
   "source": [
    "## activation = relu, epochs = 250"
   ]
  },
  {
   "cell_type": "code",
   "execution_count": 19,
   "metadata": {},
   "outputs": [
    {
     "data": {
      "text/plain": [
       "0.8283088266849518"
      ]
     },
     "execution_count": 19,
     "metadata": {},
     "output_type": "execute_result"
    }
   ],
   "source": [
    "def create_model():\n",
    "    model = Sequential()\n",
    "    \n",
    "    #7 feature inputs (geo-politic parameters) going into an 7 units layer \n",
    "    model.add(Dense(7, input_dim=7, kernel_initializer='normal', activation='relu'))    \n",
    "    \n",
    "    # Output layer with a binary classification (Democracy or Dictatorship)\n",
    "    model.add(Dense(1, kernel_initializer='normal', activation='sigmoid'))\n",
    "    \n",
    "    # Compile model\n",
    "    model.compile(loss='binary_crossentropy', optimizer='adam', metrics=['accuracy'])\n",
    "    return model\n",
    "\n",
    "# Wrap our Keras model in an estimator compatible with scikit_learn\n",
    "estimator = KerasClassifier(build_fn=create_model, epochs=250, verbose=0)\n",
    "\n",
    "# Now we can use scikit_learn's cross_val_score to evaluate this model identically to the others\n",
    "cv_scores = cross_val_score(estimator, DF, DF_target, cv=10)\n",
    "cv_scores.mean()"
   ]
  },
  {
   "cell_type": "markdown",
   "metadata": {},
   "source": [
    "## activation = relu, epochs = 500"
   ]
  },
  {
   "cell_type": "code",
   "execution_count": 20,
   "metadata": {},
   "outputs": [
    {
     "data": {
      "text/plain": [
       "0.8529411792755127"
      ]
     },
     "execution_count": 20,
     "metadata": {},
     "output_type": "execute_result"
    }
   ],
   "source": [
    "def create_model():\n",
    "    model = Sequential()\n",
    "    \n",
    "    #7 feature inputs (geo-politic parameters) going into an 7 units layer \n",
    "    model.add(Dense(7, input_dim=7, kernel_initializer='normal', activation='relu'))    \n",
    "    \n",
    "    # Output layer with a binary classification (Democracy or Dictatorship)\n",
    "    model.add(Dense(1, kernel_initializer='normal', activation='sigmoid'))\n",
    "    \n",
    "    # Compile model\n",
    "    model.compile(loss='binary_crossentropy', optimizer='adam', metrics=['accuracy'])\n",
    "    return model\n",
    "\n",
    "# Wrap our Keras model in an estimator compatible with scikit_learn\n",
    "estimator = KerasClassifier(build_fn=create_model, epochs=500, verbose=0)\n",
    "\n",
    "# Now we can use scikit_learn's cross_val_score to evaluate this model identically to the others\n",
    "cv_scores = cross_val_score(estimator, DF, DF_target, cv=10)\n",
    "cv_scores.mean()"
   ]
  },
  {
   "cell_type": "code",
   "execution_count": null,
   "metadata": {},
   "outputs": [],
   "source": []
  },
  {
   "cell_type": "markdown",
   "metadata": {},
   "source": [
    "## activation = relu, epochs = 400"
   ]
  },
  {
   "cell_type": "code",
   "execution_count": 21,
   "metadata": {},
   "outputs": [
    {
     "data": {
      "text/plain": [
       "0.8294117689132691"
      ]
     },
     "execution_count": 21,
     "metadata": {},
     "output_type": "execute_result"
    }
   ],
   "source": [
    "def create_model():\n",
    "    model = Sequential()\n",
    "    #7 feature inputs (geo-politic parameters) going into an 7 units layer \n",
    "    model.add(Dense(7, input_dim=7, kernel_initializer='normal', activation='relu'))    \n",
    "    \n",
    "    # Output layer with a binary classification (Democracy or Dictatorship)\n",
    "    model.add(Dense(1, kernel_initializer='normal', activation='sigmoid'))\n",
    "    \n",
    "    # Compile model\n",
    "    model.compile(loss='binary_crossentropy', optimizer='adam', metrics=['accuracy'])\n",
    "    return model\n",
    "\n",
    "# Wrap our Keras model in an estimator compatible with scikit_learn\n",
    "estimator = KerasClassifier(build_fn=create_model, epochs=400, verbose=0)\n",
    "\n",
    "# Now we can use scikit_learn's cross_val_score to evaluate this model identically to the others\n",
    "cv_scores = cross_val_score(estimator, DF, DF_target, cv=10)\n",
    "cv_scores.mean()"
   ]
  },
  {
   "cell_type": "markdown",
   "metadata": {},
   "source": [
    "## activation = tanh, epochs = 400"
   ]
  },
  {
   "cell_type": "code",
   "execution_count": 22,
   "metadata": {},
   "outputs": [
    {
     "data": {
      "text/plain": [
       "0.8408088266849518"
      ]
     },
     "execution_count": 22,
     "metadata": {},
     "output_type": "execute_result"
    }
   ],
   "source": [
    "def create_model():\n",
    "    model = Sequential()\n",
    "    #7 feature inputs (geo-politic parameters) going into an 7 units layer \n",
    "    model.add(Dense(7, input_dim=7, kernel_initializer='normal', activation='tanh'))\n",
    "\n",
    "    \n",
    "    \n",
    "    # Output layer with a binary classification (Democracy or Dictatorship)\n",
    "    model.add(Dense(1, kernel_initializer='normal', activation='sigmoid'))\n",
    "    # Compile model\n",
    "    model.compile(loss='binary_crossentropy', optimizer='adam', metrics=['accuracy'])\n",
    "    return model\n",
    "\n",
    "# Wrap our Keras model in an estimator compatible with scikit_learn\n",
    "estimator = KerasClassifier(build_fn=create_model, epochs=400, verbose=0)\n",
    "# Now we can use scikit_learn's cross_val_score to evaluate this model identically to the others\n",
    "cv_scores = cross_val_score(estimator, DF, DF_target, cv=10)\n",
    "cv_scores.mean()"
   ]
  },
  {
   "cell_type": "markdown",
   "metadata": {},
   "source": [
    "## activation = linear, epochs = 400"
   ]
  },
  {
   "cell_type": "code",
   "execution_count": 23,
   "metadata": {},
   "outputs": [
    {
     "data": {
      "text/plain": [
       "0.8529411792755127"
      ]
     },
     "execution_count": 23,
     "metadata": {},
     "output_type": "execute_result"
    }
   ],
   "source": [
    "def create_model():\n",
    "    model = Sequential()\n",
    "    #7 feature inputs (geo-politic parameters) going into an 7 units layer \n",
    "    model.add(Dense(7, input_dim=7, kernel_initializer='normal', activation='linear'))\n",
    "\n",
    "    \n",
    "    \n",
    "    # Output layer with a binary classification (Democracy or Dictatorship)\n",
    "    model.add(Dense(1, kernel_initializer='normal', activation='sigmoid'))\n",
    "    # Compile model\n",
    "    model.compile(loss='binary_crossentropy', optimizer='adam', metrics=['accuracy'])\n",
    "    return model\n",
    "\n",
    "# Wrap our Keras model in an estimator compatible with scikit_learn\n",
    "estimator = KerasClassifier(build_fn=create_model, epochs=400, verbose=0)\n",
    "# Now we can use scikit_learn's cross_val_score to evaluate this model identically to the others\n",
    "cv_scores = cross_val_score(estimator, DF, DF_target, cv=10)\n",
    "cv_scores.mean()"
   ]
  },
  {
   "cell_type": "markdown",
   "metadata": {},
   "source": [
    "## Conclusion\n",
    "The 'relu' seems to be the best activation choice, but not really significatly.\n",
    "Also, the reduction of the number of units and layers improve the time of execution: with only one line of 7 units we get the same result than with several layers of 512 units.\n",
    "Anyway, the results are quite the same, and take much more time to obtain, than with other machine learning methods, like xgboost.\n",
    "Deep learning is not the most efficient way to solve our problem here."
   ]
  },
  {
   "cell_type": "code",
   "execution_count": null,
   "metadata": {},
   "outputs": [],
   "source": []
  }
 ],
 "metadata": {
  "kernelspec": {
   "display_name": "Python 3",
   "language": "python",
   "name": "python3"
  },
  "language_info": {
   "codemirror_mode": {
    "name": "ipython",
    "version": 3
   },
   "file_extension": ".py",
   "mimetype": "text/x-python",
   "name": "python",
   "nbconvert_exporter": "python",
   "pygments_lexer": "ipython3",
   "version": "3.8.3"
  }
 },
 "nbformat": 4,
 "nbformat_minor": 4
}
