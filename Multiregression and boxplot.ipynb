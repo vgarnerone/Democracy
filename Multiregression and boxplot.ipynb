{
 "cells": [
  {
   "cell_type": "markdown",
   "metadata": {},
   "source": [
    "In this notebook we will make a multiregression to evaluate the impacts of the parameters on the democratic score.\n",
    "We will define 4 groups of political regime and draw box plots for each parameter."
   ]
  },
  {
   "cell_type": "code",
   "execution_count": 16,
   "metadata": {},
   "outputs": [],
   "source": [
    "import numpy as np\n",
    "import pandas as pd\n",
    "import seaborn as sns\n",
    "import statsmodels.api as sm\n",
    "from sklearn.preprocessing import StandardScaler\n",
    "\n",
    "# read our data and creates a data frame\n",
    "DF = pd.read_csv('DATA/Democracy-Index.csv', usecols=range(1,11))"
   ]
  },
  {
   "cell_type": "code",
   "execution_count": 17,
   "metadata": {},
   "outputs": [
    {
     "data": {
      "text/html": [
       "<div>\n",
       "<style scoped>\n",
       "    .dataframe tbody tr th:only-of-type {\n",
       "        vertical-align: middle;\n",
       "    }\n",
       "\n",
       "    .dataframe tbody tr th {\n",
       "        vertical-align: top;\n",
       "    }\n",
       "\n",
       "    .dataframe thead th {\n",
       "        text-align: right;\n",
       "    }\n",
       "</style>\n",
       "<table border=\"1\" class=\"dataframe\">\n",
       "  <thead>\n",
       "    <tr style=\"text-align: right;\">\n",
       "      <th></th>\n",
       "      <th>Country</th>\n",
       "      <th>Democracy</th>\n",
       "      <th>Expectancy</th>\n",
       "      <th>PopulationD</th>\n",
       "      <th>Gini</th>\n",
       "      <th>AgeMed</th>\n",
       "      <th>Skyscraper</th>\n",
       "      <th>Children</th>\n",
       "      <th>PressF</th>\n",
       "      <th>Overall score</th>\n",
       "    </tr>\n",
       "  </thead>\n",
       "  <tbody>\n",
       "    <tr>\n",
       "      <th>0</th>\n",
       "      <td>Afghanistan</td>\n",
       "      <td>0</td>\n",
       "      <td>64.1</td>\n",
       "      <td>58.3</td>\n",
       "      <td>36.8</td>\n",
       "      <td>18.4</td>\n",
       "      <td>75.0</td>\n",
       "      <td>4.18</td>\n",
       "      <td>36.55</td>\n",
       "      <td>2.85</td>\n",
       "    </tr>\n",
       "    <tr>\n",
       "      <th>1</th>\n",
       "      <td>Albania</td>\n",
       "      <td>0</td>\n",
       "      <td>78.5</td>\n",
       "      <td>105.0</td>\n",
       "      <td>29.0</td>\n",
       "      <td>36.4</td>\n",
       "      <td>91.0</td>\n",
       "      <td>1.70</td>\n",
       "      <td>29.84</td>\n",
       "      <td>5.89</td>\n",
       "    </tr>\n",
       "    <tr>\n",
       "      <th>2</th>\n",
       "      <td>Algeria</td>\n",
       "      <td>0</td>\n",
       "      <td>78.1</td>\n",
       "      <td>18.1</td>\n",
       "      <td>27.6</td>\n",
       "      <td>28.5</td>\n",
       "      <td>270.0</td>\n",
       "      <td>2.59</td>\n",
       "      <td>45.75</td>\n",
       "      <td>4.01</td>\n",
       "    </tr>\n",
       "    <tr>\n",
       "      <th>3</th>\n",
       "      <td>Angola</td>\n",
       "      <td>0</td>\n",
       "      <td>65.0</td>\n",
       "      <td>25.5</td>\n",
       "      <td>42.6</td>\n",
       "      <td>16.7</td>\n",
       "      <td>145.0</td>\n",
       "      <td>5.48</td>\n",
       "      <td>34.96</td>\n",
       "      <td>3.72</td>\n",
       "    </tr>\n",
       "    <tr>\n",
       "      <th>4</th>\n",
       "      <td>Argentina</td>\n",
       "      <td>1</td>\n",
       "      <td>77.0</td>\n",
       "      <td>16.4</td>\n",
       "      <td>42.4</td>\n",
       "      <td>31.5</td>\n",
       "      <td>235.0</td>\n",
       "      <td>2.25</td>\n",
       "      <td>28.30</td>\n",
       "      <td>7.02</td>\n",
       "    </tr>\n",
       "    <tr>\n",
       "      <th>...</th>\n",
       "      <td>...</td>\n",
       "      <td>...</td>\n",
       "      <td>...</td>\n",
       "      <td>...</td>\n",
       "      <td>...</td>\n",
       "      <td>...</td>\n",
       "      <td>...</td>\n",
       "      <td>...</td>\n",
       "      <td>...</td>\n",
       "      <td>...</td>\n",
       "    </tr>\n",
       "    <tr>\n",
       "      <th>159</th>\n",
       "      <td>Venezuela</td>\n",
       "      <td>0</td>\n",
       "      <td>75.1</td>\n",
       "      <td>32.3</td>\n",
       "      <td>46.9</td>\n",
       "      <td>29.6</td>\n",
       "      <td>262.5</td>\n",
       "      <td>2.25</td>\n",
       "      <td>49.10</td>\n",
       "      <td>2.88</td>\n",
       "    </tr>\n",
       "    <tr>\n",
       "      <th>160</th>\n",
       "      <td>Vietnam</td>\n",
       "      <td>0</td>\n",
       "      <td>74.7</td>\n",
       "      <td>311.0</td>\n",
       "      <td>35.3</td>\n",
       "      <td>32.5</td>\n",
       "      <td>461.2</td>\n",
       "      <td>1.94</td>\n",
       "      <td>74.93</td>\n",
       "      <td>3.08</td>\n",
       "    </tr>\n",
       "    <tr>\n",
       "      <th>161</th>\n",
       "      <td>Yemen</td>\n",
       "      <td>0</td>\n",
       "      <td>68.1</td>\n",
       "      <td>55.2</td>\n",
       "      <td>36.7</td>\n",
       "      <td>20.2</td>\n",
       "      <td>100.0</td>\n",
       "      <td>3.69</td>\n",
       "      <td>61.66</td>\n",
       "      <td>1.95</td>\n",
       "    </tr>\n",
       "    <tr>\n",
       "      <th>162</th>\n",
       "      <td>Zambia</td>\n",
       "      <td>0</td>\n",
       "      <td>64.0</td>\n",
       "      <td>24.0</td>\n",
       "      <td>57.1</td>\n",
       "      <td>17.6</td>\n",
       "      <td>90.0</td>\n",
       "      <td>4.81</td>\n",
       "      <td>36.38</td>\n",
       "      <td>5.09</td>\n",
       "    </tr>\n",
       "    <tr>\n",
       "      <th>163</th>\n",
       "      <td>Zimbabwe</td>\n",
       "      <td>0</td>\n",
       "      <td>62.0</td>\n",
       "      <td>37.9</td>\n",
       "      <td>43.2</td>\n",
       "      <td>18.7</td>\n",
       "      <td>120.0</td>\n",
       "      <td>3.53</td>\n",
       "      <td>42.23</td>\n",
       "      <td>3.16</td>\n",
       "    </tr>\n",
       "  </tbody>\n",
       "</table>\n",
       "<p>164 rows × 10 columns</p>\n",
       "</div>"
      ],
      "text/plain": [
       "         Country  Democracy  Expectancy  PopulationD  Gini  AgeMed  \\\n",
       "0    Afghanistan          0        64.1         58.3  36.8    18.4   \n",
       "1        Albania          0        78.5        105.0  29.0    36.4   \n",
       "2        Algeria          0        78.1         18.1  27.6    28.5   \n",
       "3         Angola          0        65.0         25.5  42.6    16.7   \n",
       "4      Argentina          1        77.0         16.4  42.4    31.5   \n",
       "..           ...        ...         ...          ...   ...     ...   \n",
       "159    Venezuela          0        75.1         32.3  46.9    29.6   \n",
       "160      Vietnam          0        74.7        311.0  35.3    32.5   \n",
       "161        Yemen          0        68.1         55.2  36.7    20.2   \n",
       "162       Zambia          0        64.0         24.0  57.1    17.6   \n",
       "163     Zimbabwe          0        62.0         37.9  43.2    18.7   \n",
       "\n",
       "     Skyscraper  Children  PressF  Overall score  \n",
       "0          75.0      4.18   36.55           2.85  \n",
       "1          91.0      1.70   29.84           5.89  \n",
       "2         270.0      2.59   45.75           4.01  \n",
       "3         145.0      5.48   34.96           3.72  \n",
       "4         235.0      2.25   28.30           7.02  \n",
       "..          ...       ...     ...            ...  \n",
       "159       262.5      2.25   49.10           2.88  \n",
       "160       461.2      1.94   74.93           3.08  \n",
       "161       100.0      3.69   61.66           1.95  \n",
       "162        90.0      4.81   36.38           5.09  \n",
       "163       120.0      3.53   42.23           3.16  \n",
       "\n",
       "[164 rows x 10 columns]"
      ]
     },
     "execution_count": 17,
     "metadata": {},
     "output_type": "execute_result"
    }
   ],
   "source": [
    "# an orverviews of the data frame\n",
    "DF"
   ]
  },
  {
   "cell_type": "code",
   "execution_count": 18,
   "metadata": {},
   "outputs": [
    {
     "name": "stderr",
     "output_type": "stream",
     "text": [
      "<ipython-input-18-761ba9b9e066>:9: SettingWithCopyWarning: \n",
      "A value is trying to be set on a copy of a slice from a DataFrame.\n",
      "Try using .loc[row_indexer,col_indexer] = value instead\n",
      "\n",
      "See the caveats in the documentation: https://pandas.pydata.org/pandas-docs/stable/user_guide/indexing.html#returning-a-view-versus-a-copy\n",
      "  X[['Expectancy', 'PopulationD', 'Gini', 'AgeMed','Skyscraper','Children','PressF']] = scale.fit_transform(X[['Expectancy', 'PopulationD', 'Gini', 'AgeMed','Skyscraper','Children','PressF']].values)\n",
      "/home/vinz/anaconda3/lib/python3.8/site-packages/pandas/core/frame.py:2969: SettingWithCopyWarning: \n",
      "A value is trying to be set on a copy of a slice from a DataFrame\n",
      "\n",
      "See the caveats in the documentation: https://pandas.pydata.org/pandas-docs/stable/user_guide/indexing.html#returning-a-view-versus-a-copy\n",
      "  self.loc._setitem_with_indexer((slice(None), indexer), value)\n",
      "/home/vinz/anaconda3/lib/python3.8/site-packages/pandas/core/frame.py:2935: SettingWithCopyWarning: \n",
      "A value is trying to be set on a copy of a slice from a DataFrame\n",
      "\n",
      "See the caveats in the documentation: https://pandas.pydata.org/pandas-docs/stable/user_guide/indexing.html#returning-a-view-versus-a-copy\n",
      "  self._setitem_array(key, value)\n"
     ]
    },
    {
     "data": {
      "text/html": [
       "<table class=\"simpletable\">\n",
       "<caption>OLS Regression Results</caption>\n",
       "<tr>\n",
       "  <th>Dep. Variable:</th>      <td>Overall score</td>  <th>  R-squared (uncentered):</th>      <td>   0.114</td>\n",
       "</tr>\n",
       "<tr>\n",
       "  <th>Model:</th>                   <td>OLS</td>       <th>  Adj. R-squared (uncentered):</th> <td>   0.075</td>\n",
       "</tr>\n",
       "<tr>\n",
       "  <th>Method:</th>             <td>Least Squares</td>  <th>  F-statistic:       </th>          <td>   2.891</td>\n",
       "</tr>\n",
       "<tr>\n",
       "  <th>Date:</th>             <td>Thu, 19 Nov 2020</td> <th>  Prob (F-statistic):</th>           <td>0.00721</td>\n",
       "</tr>\n",
       "<tr>\n",
       "  <th>Time:</th>                 <td>17:01:24</td>     <th>  Log-Likelihood:    </th>          <td> -513.67</td>\n",
       "</tr>\n",
       "<tr>\n",
       "  <th>No. Observations:</th>      <td>   164</td>      <th>  AIC:               </th>          <td>   1041.</td>\n",
       "</tr>\n",
       "<tr>\n",
       "  <th>Df Residuals:</th>          <td>   157</td>      <th>  BIC:               </th>          <td>   1063.</td>\n",
       "</tr>\n",
       "<tr>\n",
       "  <th>Df Model:</th>              <td>     7</td>      <th>                     </th>              <td> </td>   \n",
       "</tr>\n",
       "<tr>\n",
       "  <th>Covariance Type:</th>      <td>nonrobust</td>    <th>                     </th>              <td> </td>   \n",
       "</tr>\n",
       "</table>\n",
       "<table class=\"simpletable\">\n",
       "<tr>\n",
       "       <td></td>          <th>coef</th>     <th>std err</th>      <th>t</th>      <th>P>|t|</th>  <th>[0.025</th>    <th>0.975]</th>  \n",
       "</tr>\n",
       "<tr>\n",
       "  <th>Expectancy</th>  <td>    0.4614</td> <td>    0.838</td> <td>    0.551</td> <td> 0.583</td> <td>   -1.193</td> <td>    2.116</td>\n",
       "</tr>\n",
       "<tr>\n",
       "  <th>PopulationD</th> <td>   -0.0193</td> <td>    0.470</td> <td>   -0.041</td> <td> 0.967</td> <td>   -0.948</td> <td>    0.909</td>\n",
       "</tr>\n",
       "<tr>\n",
       "  <th>Gini</th>        <td>    0.0990</td> <td>    0.539</td> <td>    0.184</td> <td> 0.855</td> <td>   -0.966</td> <td>    1.164</td>\n",
       "</tr>\n",
       "<tr>\n",
       "  <th>AgeMed</th>      <td>    0.2048</td> <td>    1.177</td> <td>    0.174</td> <td> 0.862</td> <td>   -2.120</td> <td>    2.530</td>\n",
       "</tr>\n",
       "<tr>\n",
       "  <th>Skyscraper</th>  <td>    0.0413</td> <td>    0.526</td> <td>    0.078</td> <td> 0.938</td> <td>   -0.997</td> <td>    1.080</td>\n",
       "</tr>\n",
       "<tr>\n",
       "  <th>Children</th>    <td>   -0.2990</td> <td>    1.038</td> <td>   -0.288</td> <td> 0.774</td> <td>   -2.350</td> <td>    1.752</td>\n",
       "</tr>\n",
       "<tr>\n",
       "  <th>PressF</th>      <td>   -1.5592</td> <td>    0.525</td> <td>   -2.971</td> <td> 0.003</td> <td>   -2.596</td> <td>   -0.523</td>\n",
       "</tr>\n",
       "</table>\n",
       "<table class=\"simpletable\">\n",
       "<tr>\n",
       "  <th>Omnibus:</th>       <td> 0.572</td> <th>  Durbin-Watson:     </th> <td>   0.068</td>\n",
       "</tr>\n",
       "<tr>\n",
       "  <th>Prob(Omnibus):</th> <td> 0.751</td> <th>  Jarque-Bera (JB):  </th> <td>   0.393</td>\n",
       "</tr>\n",
       "<tr>\n",
       "  <th>Skew:</th>          <td>-0.117</td> <th>  Prob(JB):          </th> <td>   0.821</td>\n",
       "</tr>\n",
       "<tr>\n",
       "  <th>Kurtosis:</th>      <td> 3.057</td> <th>  Cond. No.          </th> <td>    6.00</td>\n",
       "</tr>\n",
       "</table><br/><br/>Warnings:<br/>[1] Standard Errors assume that the covariance matrix of the errors is correctly specified."
      ],
      "text/plain": [
       "<class 'statsmodels.iolib.summary.Summary'>\n",
       "\"\"\"\n",
       "                                 OLS Regression Results                                \n",
       "=======================================================================================\n",
       "Dep. Variable:          Overall score   R-squared (uncentered):                   0.114\n",
       "Model:                            OLS   Adj. R-squared (uncentered):              0.075\n",
       "Method:                 Least Squares   F-statistic:                              2.891\n",
       "Date:                Thu, 19 Nov 2020   Prob (F-statistic):                     0.00721\n",
       "Time:                        17:01:24   Log-Likelihood:                         -513.67\n",
       "No. Observations:                 164   AIC:                                      1041.\n",
       "Df Residuals:                     157   BIC:                                      1063.\n",
       "Df Model:                           7                                                  \n",
       "Covariance Type:            nonrobust                                                  \n",
       "===============================================================================\n",
       "                  coef    std err          t      P>|t|      [0.025      0.975]\n",
       "-------------------------------------------------------------------------------\n",
       "Expectancy      0.4614      0.838      0.551      0.583      -1.193       2.116\n",
       "PopulationD    -0.0193      0.470     -0.041      0.967      -0.948       0.909\n",
       "Gini            0.0990      0.539      0.184      0.855      -0.966       1.164\n",
       "AgeMed          0.2048      1.177      0.174      0.862      -2.120       2.530\n",
       "Skyscraper      0.0413      0.526      0.078      0.938      -0.997       1.080\n",
       "Children       -0.2990      1.038     -0.288      0.774      -2.350       1.752\n",
       "PressF         -1.5592      0.525     -2.971      0.003      -2.596      -0.523\n",
       "==============================================================================\n",
       "Omnibus:                        0.572   Durbin-Watson:                   0.068\n",
       "Prob(Omnibus):                  0.751   Jarque-Bera (JB):                0.393\n",
       "Skew:                          -0.117   Prob(JB):                        0.821\n",
       "Kurtosis:                       3.057   Cond. No.                         6.00\n",
       "==============================================================================\n",
       "\n",
       "Warnings:\n",
       "[1] Standard Errors assume that the covariance matrix of the errors is correctly specified.\n",
       "\"\"\""
      ]
     },
     "execution_count": 18,
     "metadata": {},
     "output_type": "execute_result"
    }
   ],
   "source": [
    "scale = StandardScaler()\n",
    "\n",
    "# parameters\n",
    "X = DF[['Expectancy', 'PopulationD', 'Gini', 'AgeMed','Skyscraper','Children','PressF']]\n",
    "# target\n",
    "y = DF['Overall score']\n",
    "\n",
    "# scale the data for the result to be easily interpreted\n",
    "X[['Expectancy', 'PopulationD', 'Gini', 'AgeMed','Skyscraper','Children','PressF']] = scale.fit_transform(X[['Expectancy', 'PopulationD', 'Gini', 'AgeMed','Skyscraper','Children','PressF']].values)\n",
    "\n",
    "#print (X)\n",
    "\n",
    "# uses ordinary least squares method to compare the parameters' influence.\n",
    "est = sm.OLS(y, X).fit()\n",
    "\n",
    "est.summary()"
   ]
  },
  {
   "cell_type": "markdown",
   "metadata": {},
   "source": [
    "According to this multi regression, the press freedom (PressF) is the most important parameter to predict the regime of a country. Following by the age expectancy and the median age. "
   ]
  },
  {
   "cell_type": "code",
   "execution_count": 32,
   "metadata": {},
   "outputs": [],
   "source": [
    "# groups country according to their democratic score (the Economist criteria):\n",
    "# 1 : full democratie 8 =< score < 10\n",
    "# 2 : flawed democracy 6 =< score < 8\n",
    "# 3 : hybrid regime 4 =< score < 6\n",
    "# 4 : authoritarian regime 0 =< score < 4\n",
    "conditions = [\n",
    "      DF['Overall score'] >= 8,\n",
    "      (DF['Overall score'] >= 6) & (DF['Overall score'] < 8),\n",
    "      (DF['Overall score'] >= 4) & (DF['Overall score'] < 6),\n",
    "      DF['Overall score'] < 4\n",
    "      ]\n",
    "values = [1, 2, 3, 4]\n",
    "DF['Regime']=np.select(conditions,values)\n",
    "\n",
    "# save this regime groups in the cvs file for later\n",
    "DF.to_csv('DATA/democracy_regime')\n",
    "\n"
   ]
  },
  {
   "cell_type": "markdown",
   "metadata": {},
   "source": [
    "Draw box plot for each parameter and each group of political regime:\n",
    "    1 : full democratie \n",
    "    2 : flawed democracy \n",
    "    3 : hybrid regime\n",
    "    4 : authoritarian regime   "
   ]
  },
  {
   "cell_type": "code",
   "execution_count": 24,
   "metadata": {},
   "outputs": [
    {
     "data": {
      "image/png": "[encoded data removed]",
      "text/plain": [
       "<Figure size 432x288 with 1 Axes>"
      ]
     },
     "metadata": {
      "needs_background": "light"
     },
     "output_type": "display_data"
    }
   ],
   "source": [
    "box = sns.boxplot(x='Regime', y='Expectancy', data=DF)"
   ]
  },
  {
   "cell_type": "markdown",
   "metadata": {},
   "source": [
    "The more democratic a country is, the higher the life expectancy is. Nevertheless we can observe a wilde range in authoritarian countries."
   ]
  },
  {
   "cell_type": "code",
   "execution_count": 25,
   "metadata": {},
   "outputs": [
    {
     "data": {
      "image/png": "[encoded data removed]",
      "text/plain": [
       "<Figure size 432x288 with 1 Axes>"
      ]
     },
     "metadata": {
      "needs_background": "light"
     },
     "output_type": "display_data"
    }
   ],
   "source": [
    "box = sns.boxplot(x='Regime', y='PopulationD', data=DF)"
   ]
  },
  {
   "cell_type": "raw",
   "metadata": {},
   "source": [
    "There are outliers in the group 2 for the density of population, so plot does not look good. Let's remove them."
   ]
  },
  {
   "cell_type": "code",
   "execution_count": 26,
   "metadata": {},
   "outputs": [
    {
     "data": {
      "image/png": "[encoded data removed]",
      "text/plain": [
       "<Figure size 432x288 with 1 Axes>"
      ]
     },
     "metadata": {
      "needs_background": "light"
     },
     "output_type": "display_data"
    }
   ],
   "source": [
    "df_filtered = DF.copy()\n",
    "df_filtered= df_filtered.loc[df_filtered['PopulationD']<df_filtered['PopulationD'].quantile(0.925)]\n",
    "box = sns.boxplot(x='Regime', y='PopulationD', data=df_filtered)"
   ]
  },
  {
   "cell_type": "markdown",
   "metadata": {},
   "source": [
    "Density of population in a country does not seem to be related with the political regime."
   ]
  },
  {
   "cell_type": "code",
   "execution_count": 27,
   "metadata": {},
   "outputs": [
    {
     "data": {
      "image/png": "[encoded data removed]",
      "text/plain": [
       "<Figure size 432x288 with 1 Axes>"
      ]
     },
     "metadata": {
      "needs_background": "light"
     },
     "output_type": "display_data"
    }
   ],
   "source": [
    "box = sns.boxplot(x='Regime', y='Gini', data=DF)"
   ]
  },
  {
   "cell_type": "markdown",
   "metadata": {},
   "source": [
    "Democratic countries have, in mean, less wealth inequality than others. Nevertheless we can observe a wilde range in others countries."
   ]
  },
  {
   "cell_type": "code",
   "execution_count": 28,
   "metadata": {},
   "outputs": [
    {
     "data": {
      "image/png": "[encoded data removed]",
      "text/plain": [
       "<Figure size 432x288 with 1 Axes>"
      ]
     },
     "metadata": {
      "needs_background": "light"
     },
     "output_type": "display_data"
    }
   ],
   "source": [
    "box = sns.boxplot(x='Regime', y='AgeMed', data=DF)"
   ]
  },
  {
   "cell_type": "markdown",
   "metadata": {},
   "source": [
    "People are younger in dictatorship than in democracy."
   ]
  },
  {
   "cell_type": "code",
   "execution_count": 29,
   "metadata": {},
   "outputs": [
    {
     "data": {
      "image/png": "[encoded data removed]",
      "text/plain": [
       "<Figure size 432x288 with 1 Axes>"
      ]
     },
     "metadata": {
      "needs_background": "light"
     },
     "output_type": "display_data"
    }
   ],
   "source": [
    "box = sns.boxplot(x='Regime', y='Skyscraper', data=DF)"
   ]
  },
  {
   "cell_type": "markdown",
   "metadata": {},
   "source": [
    "The highest building in the world are in authoritarian countries, but the mean of height is higher in democracy."
   ]
  },
  {
   "cell_type": "code",
   "execution_count": 30,
   "metadata": {},
   "outputs": [
    {
     "data": {
      "image/png": "[encoded data removed]",
      "text/plain": [
       "<Figure size 432x288 with 1 Axes>"
      ]
     },
     "metadata": {
      "needs_background": "light"
     },
     "output_type": "display_data"
    }
   ],
   "source": [
    "box = sns.boxplot(x='Regime', y='Children', data=DF)"
   ]
  },
  {
   "cell_type": "markdown",
   "metadata": {},
   "source": [
    "The more democratic a country is, the less women have children. Nevertheless we can observe a wilde range in authoritarian countries."
   ]
  },
  {
   "cell_type": "code",
   "execution_count": 31,
   "metadata": {},
   "outputs": [
    {
     "data": {
      "image/png": "[encoded data removed]",
      "text/plain": [
       "<Figure size 432x288 with 1 Axes>"
      ]
     },
     "metadata": {
      "needs_background": "light"
     },
     "output_type": "display_data"
    }
   ],
   "source": [
    "box = sns.boxplot(x='Regime', y='PressF', data=DF)"
   ]
  },
  {
   "cell_type": "markdown",
   "metadata": {},
   "source": [
    "The more democratic a country is, the better the press freedom is (the freedom press score is low when the press is free, and high when is not)."
   ]
  },
  {
   "cell_type": "code",
   "execution_count": null,
   "metadata": {},
   "outputs": [],
   "source": []
  }
 ],
 "metadata": {
  "kernelspec": {
   "display_name": "Python 3",
   "language": "python",
   "name": "python3"
  },
  "language_info": {
   "codemirror_mode": {
    "name": "ipython",
    "version": 3
   },
   "file_extension": ".py",
   "mimetype": "text/x-python",
   "name": "python",
   "nbconvert_exporter": "python",
   "pygments_lexer": "ipython3",
   "version": "3.8.3"
  }
 },
 "nbformat": 4,
 "nbformat_minor": 4
}
