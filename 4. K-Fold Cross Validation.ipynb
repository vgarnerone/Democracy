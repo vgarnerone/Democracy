{
 "cells": [
  {
   "cell_type": "markdown",
   "metadata": {},
   "source": [
    "## K-Fold Cross Validation - SVC model"
   ]
  },
  {
   "cell_type": "markdown",
   "metadata": {},
   "source": [
    "We build a model to predict the political regime of a country based on our parameters."
   ]
  },
  {
   "cell_type": "code",
   "execution_count": 2,
   "metadata": {},
   "outputs": [],
   "source": [
    "import numpy as np\n",
    "import pandas as pd\n",
    "from sklearn.model_selection import cross_val_score, train_test_split\n",
    "from sklearn import svm"
   ]
  },
  {
   "cell_type": "code",
   "execution_count": 3,
   "metadata": {},
   "outputs": [],
   "source": [
    "DF = pd.read_csv('DATA/Democracy-Index.csv', usecols=range(1,10))\n",
    "# makes a copy of the data frame to work on it\n",
    "# and remove the columns with 'Democracy' and 'Country'\n",
    "# in order to build a model\n",
    "df_target = DF.copy()\n",
    "del DF['Democracy']\n",
    "del DF['Country']"
   ]
  },
  {
   "cell_type": "markdown",
   "metadata": {},
   "source": [
    "A single train/test split maded with the train_test_split function in the cross_validation library:"
   ]
  },
  {
   "cell_type": "code",
   "execution_count": 19,
   "metadata": {},
   "outputs": [
    {
     "data": {
      "text/plain": [
       "0.8"
      ]
     },
     "execution_count": 19,
     "metadata": {},
     "output_type": "execute_result"
    }
   ],
   "source": [
    "# Split the data into train/test data sets with 30% reserved for testing\n",
    "X_train, X_test, y_train, y_test = train_test_split(DF, df_target['Democracy'], test_size=0.3, random_state=0)\n",
    "\n",
    "# Build an SVC model for predicting the polical regime using training data\n",
    "clf = svm.SVC(kernel='linear', C=1).fit(X_train, y_train)\n",
    "\n",
    "# Now measure its performance with the test data\n",
    "clf.score(X_test, y_test)"
   ]
  },
  {
   "cell_type": "markdown",
   "metadata": {},
   "source": [
    "It is quiet good ! Let's try to do better with a K-Fold cross validation."
   ]
  },
  {
   "cell_type": "markdown",
   "metadata": {},
   "source": [
    "Indeed, a K- Fold cross validation made with K = 5 give us an even better result :"
   ]
  },
  {
   "cell_type": "code",
   "execution_count": 20,
   "metadata": {},
   "outputs": [
    {
     "name": "stdout",
     "output_type": "stream",
     "text": [
      "[0.87878788 0.87878788 0.84848485 0.81818182 0.84375   ]\n",
      "0.8535984848484848\n"
     ]
    }
   ],
   "source": [
    "# We give cross_val_score a model, the entire data set and its \"real\" values, and the number of folds:\n",
    "scores = cross_val_score(clf, DF, df_target['Democracy'], cv=5)\n",
    "\n",
    "# Print the accuracy for each fold:\n",
    "print(scores)\n",
    "\n",
    "# And the mean accuracy of all 5 folds:\n",
    "print(scores.mean())"
   ]
  },
  {
   "cell_type": "markdown",
   "metadata": {},
   "source": [
    "Now we can use our model to predict the political regime of a 'fake' country, by choosing arbitrary parameters.\n",
    "\n",
    "Play with it !"
   ]
  },
  {
   "cell_type": "code",
   "execution_count": 35,
   "metadata": {},
   "outputs": [
    {
     "name": "stdout",
     "output_type": "stream",
     "text": [
      "This country is a democracy.\n"
     ]
    }
   ],
   "source": [
    "# parameters of our test country : \n",
    "expectancy = 80\n",
    "popD = 150\n",
    "gini = 29\n",
    "ageMed = 35\n",
    "skyscraper = 260\n",
    "children = 2\n",
    "pressF = 20\n",
    "\n",
    "if clf.predict([[expectancy, popD, gini, ageMed, skyscraper, children, pressF]]) == 1:\n",
    "    print('This country is a democracy.')\n",
    "else:\n",
    "    print('This country is not a democracy.')"
   ]
  },
  {
   "cell_type": "markdown",
   "metadata": {},
   "source": [
    "We could also try with a polynomial kernel, but here it is overfiting, and the results are not so good:"
   ]
  },
  {
   "cell_type": "code",
   "execution_count": 6,
   "metadata": {},
   "outputs": [
    {
     "name": "stdout",
     "output_type": "stream",
     "text": [
      "[0.48484848 0.57575758 0.54545455 0.54545455 0.53125   ]\n",
      "0.5365530303030303\n"
     ]
    }
   ],
   "source": [
    "clf = svm.SVC(kernel='poly', C=1)\n",
    "scores = cross_val_score(clf, DF, df_target['Democracy'], cv=5)\n",
    "print(scores)\n",
    "print(scores.mean())"
   ]
  }
 ],
 "metadata": {
  "kernelspec": {
   "display_name": "Python 3",
   "language": "python",
   "name": "python3"
  },
  "language_info": {
   "codemirror_mode": {
    "name": "ipython",
    "version": 3
   },
   "file_extension": ".py",
   "mimetype": "text/x-python",
   "name": "python",
   "nbconvert_exporter": "python",
   "pygments_lexer": "ipython3",
   "version": "3.8.3"
  }
 },
 "nbformat": 4,
 "nbformat_minor": 4
}
